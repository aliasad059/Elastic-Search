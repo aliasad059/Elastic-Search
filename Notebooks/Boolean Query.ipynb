{
 "cells": [
  {
   "cell_type": "markdown",
   "metadata": {
    "id": "-MYmYmnT6vWM"
   },
   "source": [
    "# Boolean Query\n",
    "\n",
    "In this notebook, we will implement a Boolean information retrieval model by Elasticsearch.  \n",
    "We have these steps: <br>\n",
    "\n",
    "**1- Connect to the Elasticsearch Cluster and Create an Index <br>\n",
    "2- Indexing Documents <br>\n",
    "3- Boolean Retrieval (Fill where ever it says #TODO in this part)** <br>\n",
    "\n",
    "Let me know if you have any problems with this notebook or implementation. <br>\n",
    "**Telegram**: [@Mohammad_Ardestani4](https://t.me/Mohammad_Ardestani4) <br>\n",
    "**Email**: mjavad.ardestani00@gmial.com"
   ]
  },
  {
   "cell_type": "code",
   "execution_count": 1,
   "metadata": {},
   "outputs": [
    {
     "name": "stdout",
     "output_type": "stream",
     "text": [
      "Requirement already satisfied: elasticsearch in /home/ali/miniconda3/envs/my-env/lib/python3.9/site-packages (8.3.0)\r\n",
      "Requirement already satisfied: elastic-transport<9,>=8 in /home/ali/miniconda3/envs/my-env/lib/python3.9/site-packages (from elasticsearch) (8.1.2)\r\n",
      "Requirement already satisfied: certifi in /home/ali/miniconda3/envs/my-env/lib/python3.9/site-packages (from elastic-transport<9,>=8->elasticsearch) (2021.10.8)\r\n",
      "Requirement already satisfied: urllib3<2,>=1.26.2 in /home/ali/miniconda3/envs/my-env/lib/python3.9/site-packages (from elastic-transport<9,>=8->elasticsearch) (1.26.8)\r\n"
     ]
    }
   ],
   "source": [
    "!pip install elasticsearch"
   ]
  },
  {
   "cell_type": "code",
   "execution_count": 2,
   "metadata": {
    "colab": {
     "base_uri": "https://localhost:8080/"
    },
    "id": "zz8PVXZwOTKg",
    "outputId": "1b6699d5-46a9-4afa-9867-c4959cccf999"
   },
   "outputs": [],
   "source": [
    "from elasticsearch import Elasticsearch, helpers\n",
    "import os, json, time\n",
    "from datetime import datetime\n",
    "from tqdm import tqdm "
   ]
  },
  {
   "cell_type": "markdown",
   "metadata": {
    "id": "8VrkfiwK68K7"
   },
   "source": [
    "## Ignore The Security Warnings\n",
    "Here we ignore the security warnings. It's suggested that you don't run below cell until you ensure that all warnings are about security. \n"
   ]
  },
  {
   "cell_type": "code",
   "execution_count": 3,
   "metadata": {
    "id": "BsAE99xuOTKj"
   },
   "outputs": [],
   "source": [
    "import warnings\n",
    "warnings.filterwarnings('ignore')"
   ]
  },
  {
   "cell_type": "markdown",
   "metadata": {
    "id": "zwRjta2P85gJ"
   },
   "source": [
    "## Load Processed Data"
   ]
  },
  {
   "cell_type": "code",
   "execution_count": 4,
   "metadata": {},
   "outputs": [],
   "source": [
    "# load from .csv file\n",
    "import pandas as pd\n",
    "df = pd.read_csv('preprocessed_data.csv',index_col=0)\n",
    "df = df.to_dict(orient='records')\n",
    "data = {str(k): v for k, v in enumerate(df)}"
   ]
  },
  {
   "cell_type": "code",
   "execution_count": null,
   "metadata": {
    "colab": {
     "base_uri": "https://localhost:8080/"
    },
    "id": "SZ38UddzOTKm",
    "outputId": "f8f848e7-58bd-4eae-fd63-fa29ca131044"
   },
   "outputs": [],
   "source": [
    "# load from .json file\n",
    "import json\n",
    "dataset_path = 'IR_data_news_12k.json'\n",
    "with open(dataset_path) as f:\n",
    "    data = json.load(f)\n",
    "print(data['0'].keys())"
   ]
  },
  {
   "cell_type": "code",
   "execution_count": 5,
   "metadata": {},
   "outputs": [
    {
     "data": {
      "text/plain": [
       "dict_keys(['title', 'content', 'tags', 'date', 'url', 'category'])"
      ]
     },
     "execution_count": 5,
     "metadata": {},
     "output_type": "execute_result"
    }
   ],
   "source": [
    "data['0'].keys()"
   ]
  },
  {
   "cell_type": "code",
   "execution_count": 6,
   "metadata": {},
   "outputs": [
    {
     "data": {
      "text/plain": [
       "dict_items([('title', 'اعلام زمان قرعه کشی جام باشگاه های فوتسال آسیا'), ('content', 'گزار خبرگزار فارس کنفدراسیون فوتبال آسیا AFC نامه رسم فدراسیون فوتبال ایر باشگاه گیت پسند ز قرعه کش جا باشگاه فوتسال آسیا رسما اعلا اساس ۲۵ فروردین ماه ۱۴۰۱ مراس قرعه کش جا باشگاه فوتسال آسیا مالز برگزار باشگاه گیت پسند بعنو قهر فوتسال ایر سال ۱۴۰۰ مسابق گیت پسند تجربه ۳ دوره حضور جا باشگاه فوتسال آسیا دوره فینال مسابق عنو قهرمان مقا دوم بدس آورده_اس انت پیا'), ('tags', \"['اعلام زمان', 'قرعه\\\\u200cکشی', 'قرعه\\\\u200cکشی جام', 'قرعه\\\\u200cکشی جام باشگاه\\\\u200cهای فوتسال', 'ای اف سی', 'گیتی پسند']\"), ('date', '3/15/2022 5:59:27 PM'), ('url', 'https://www.farsnews.ir/news/14001224001005/اعلام-زمان-قرعه-کشی-جام-باشگاه-های-فوتسال-آسیا'), ('category', 'sports')])"
      ]
     },
     "execution_count": 6,
     "metadata": {},
     "output_type": "execute_result"
    }
   ],
   "source": [
    "data['0'].items()"
   ]
  },
  {
   "cell_type": "markdown",
   "metadata": {
    "id": "34HO2cmPOTKo"
   },
   "source": [
    "## Connect to the Elasticsearch Cluster and Create an Index\n",
    "After starting your Elasticsearch on your pc (localhost:9200 is the default), we have to connect to it via the following piece of code.\n"
   ]
  },
  {
   "cell_type": "code",
   "execution_count": 7,
   "metadata": {},
   "outputs": [
    {
     "ename": "BadRequestError",
     "evalue": "BadRequestError(400, 'resource_already_exists_exception', 'index [fars-news-retrieval/L3EhkTDXTqOZ7eMeEdHFjA] already exists')",
     "output_type": "error",
     "traceback": [
      "\u001b[0;31m---------------------------------------------------------------------------\u001b[0m",
      "\u001b[0;31mBadRequestError\u001b[0m                           Traceback (most recent call last)",
      "\u001b[0;32m/tmp/ipykernel_40276/1351964982.py\u001b[0m in \u001b[0;36m<module>\u001b[0;34m\u001b[0m\n\u001b[1;32m      1\u001b[0m \u001b[0mindex_name\u001b[0m \u001b[0;34m=\u001b[0m \u001b[0;34m'fars-news-retrieval'\u001b[0m\u001b[0;34m\u001b[0m\u001b[0;34m\u001b[0m\u001b[0m\n\u001b[1;32m      2\u001b[0m \u001b[0mes\u001b[0m \u001b[0;34m=\u001b[0m \u001b[0mElasticsearch\u001b[0m\u001b[0;34m(\u001b[0m\u001b[0;34m\"http://localhost:9200\"\u001b[0m\u001b[0;34m)\u001b[0m\u001b[0;34m\u001b[0m\u001b[0;34m\u001b[0m\u001b[0m\n\u001b[0;32m----> 3\u001b[0;31m \u001b[0mes\u001b[0m\u001b[0;34m.\u001b[0m\u001b[0mindices\u001b[0m\u001b[0;34m.\u001b[0m\u001b[0mcreate\u001b[0m\u001b[0;34m(\u001b[0m\u001b[0mindex\u001b[0m \u001b[0;34m=\u001b[0m \u001b[0mindex_name\u001b[0m\u001b[0;34m)\u001b[0m\u001b[0;34m\u001b[0m\u001b[0;34m\u001b[0m\u001b[0m\n\u001b[0m",
      "\u001b[0;32m~/miniconda3/envs/my-env/lib/python3.9/site-packages/elasticsearch/_sync/client/utils.py\u001b[0m in \u001b[0;36mwrapped\u001b[0;34m(*args, **kwargs)\u001b[0m\n\u001b[1;32m    412\u001b[0m                         \u001b[0;32mpass\u001b[0m\u001b[0;34m\u001b[0m\u001b[0;34m\u001b[0m\u001b[0m\n\u001b[1;32m    413\u001b[0m \u001b[0;34m\u001b[0m\u001b[0m\n\u001b[0;32m--> 414\u001b[0;31m             \u001b[0;32mreturn\u001b[0m \u001b[0mapi\u001b[0m\u001b[0;34m(\u001b[0m\u001b[0;34m*\u001b[0m\u001b[0margs\u001b[0m\u001b[0;34m,\u001b[0m \u001b[0;34m**\u001b[0m\u001b[0mkwargs\u001b[0m\u001b[0;34m)\u001b[0m\u001b[0;34m\u001b[0m\u001b[0;34m\u001b[0m\u001b[0m\n\u001b[0m\u001b[1;32m    415\u001b[0m \u001b[0;34m\u001b[0m\u001b[0m\n\u001b[1;32m    416\u001b[0m         \u001b[0;32mreturn\u001b[0m \u001b[0mwrapped\u001b[0m  \u001b[0;31m# type: ignore[return-value]\u001b[0m\u001b[0;34m\u001b[0m\u001b[0;34m\u001b[0m\u001b[0m\n",
      "\u001b[0;32m~/miniconda3/envs/my-env/lib/python3.9/site-packages/elasticsearch/_sync/client/indices.py\u001b[0m in \u001b[0;36mcreate\u001b[0;34m(self, index, aliases, error_trace, filter_path, human, mappings, master_timeout, pretty, settings, timeout, wait_for_active_shards)\u001b[0m\n\u001b[1;32m    507\u001b[0m         \u001b[0;32mif\u001b[0m \u001b[0m__body\u001b[0m \u001b[0;32mis\u001b[0m \u001b[0;32mnot\u001b[0m \u001b[0;32mNone\u001b[0m\u001b[0;34m:\u001b[0m\u001b[0;34m\u001b[0m\u001b[0;34m\u001b[0m\u001b[0m\n\u001b[1;32m    508\u001b[0m             \u001b[0m__headers\u001b[0m\u001b[0;34m[\u001b[0m\u001b[0;34m\"content-type\"\u001b[0m\u001b[0;34m]\u001b[0m \u001b[0;34m=\u001b[0m \u001b[0;34m\"application/json\"\u001b[0m\u001b[0;34m\u001b[0m\u001b[0;34m\u001b[0m\u001b[0m\n\u001b[0;32m--> 509\u001b[0;31m         return self.perform_request(  # type: ignore[return-value]\n\u001b[0m\u001b[1;32m    510\u001b[0m             \u001b[0;34m\"PUT\"\u001b[0m\u001b[0;34m,\u001b[0m \u001b[0m__path\u001b[0m\u001b[0;34m,\u001b[0m \u001b[0mparams\u001b[0m\u001b[0;34m=\u001b[0m\u001b[0m__query\u001b[0m\u001b[0;34m,\u001b[0m \u001b[0mheaders\u001b[0m\u001b[0;34m=\u001b[0m\u001b[0m__headers\u001b[0m\u001b[0;34m,\u001b[0m \u001b[0mbody\u001b[0m\u001b[0;34m=\u001b[0m\u001b[0m__body\u001b[0m\u001b[0;34m\u001b[0m\u001b[0;34m\u001b[0m\u001b[0m\n\u001b[1;32m    511\u001b[0m         )\n",
      "\u001b[0;32m~/miniconda3/envs/my-env/lib/python3.9/site-packages/elasticsearch/_sync/client/_base.py\u001b[0m in \u001b[0;36mperform_request\u001b[0;34m(self, method, path, params, headers, body)\u001b[0m\n\u001b[1;32m    388\u001b[0m         \u001b[0;31m# Use the internal clients .perform_request() implementation\u001b[0m\u001b[0;34m\u001b[0m\u001b[0;34m\u001b[0m\u001b[0m\n\u001b[1;32m    389\u001b[0m         \u001b[0;31m# so we take advantage of their transport options.\u001b[0m\u001b[0;34m\u001b[0m\u001b[0;34m\u001b[0m\u001b[0m\n\u001b[0;32m--> 390\u001b[0;31m         return self._client.perform_request(\n\u001b[0m\u001b[1;32m    391\u001b[0m             \u001b[0mmethod\u001b[0m\u001b[0;34m,\u001b[0m \u001b[0mpath\u001b[0m\u001b[0;34m,\u001b[0m \u001b[0mparams\u001b[0m\u001b[0;34m=\u001b[0m\u001b[0mparams\u001b[0m\u001b[0;34m,\u001b[0m \u001b[0mheaders\u001b[0m\u001b[0;34m=\u001b[0m\u001b[0mheaders\u001b[0m\u001b[0;34m,\u001b[0m \u001b[0mbody\u001b[0m\u001b[0;34m=\u001b[0m\u001b[0mbody\u001b[0m\u001b[0;34m\u001b[0m\u001b[0;34m\u001b[0m\u001b[0m\n\u001b[1;32m    392\u001b[0m         )\n",
      "\u001b[0;32m~/miniconda3/envs/my-env/lib/python3.9/site-packages/elasticsearch/_sync/client/_base.py\u001b[0m in \u001b[0;36mperform_request\u001b[0;34m(self, method, path, params, headers, body)\u001b[0m\n\u001b[1;32m    319\u001b[0m                     \u001b[0;32mpass\u001b[0m\u001b[0;34m\u001b[0m\u001b[0;34m\u001b[0m\u001b[0m\n\u001b[1;32m    320\u001b[0m \u001b[0;34m\u001b[0m\u001b[0m\n\u001b[0;32m--> 321\u001b[0;31m             raise HTTP_EXCEPTIONS.get(meta.status, ApiError)(\n\u001b[0m\u001b[1;32m    322\u001b[0m                 \u001b[0mmessage\u001b[0m\u001b[0;34m=\u001b[0m\u001b[0mmessage\u001b[0m\u001b[0;34m,\u001b[0m \u001b[0mmeta\u001b[0m\u001b[0;34m=\u001b[0m\u001b[0mmeta\u001b[0m\u001b[0;34m,\u001b[0m \u001b[0mbody\u001b[0m\u001b[0;34m=\u001b[0m\u001b[0mresp_body\u001b[0m\u001b[0;34m\u001b[0m\u001b[0;34m\u001b[0m\u001b[0m\n\u001b[1;32m    323\u001b[0m             )\n",
      "\u001b[0;31mBadRequestError\u001b[0m: BadRequestError(400, 'resource_already_exists_exception', 'index [fars-news-retrieval/L3EhkTDXTqOZ7eMeEdHFjA] already exists')"
     ]
    }
   ],
   "source": [
    "index_name = 'fars-news-retrieval'\n",
    "es = Elasticsearch(\"http://localhost:9200\")\n",
    "es.indices.create(index = index_name)"
   ]
  },
  {
   "cell_type": "markdown",
   "metadata": {},
   "source": [
    "### Check the Cluster Status"
   ]
  },
  {
   "cell_type": "code",
   "execution_count": 8,
   "metadata": {
    "id": "wzH4AbnGOTKs"
   },
   "outputs": [
    {
     "data": {
      "text/plain": [
       "{'name': 'Ali',\n",
       " 'cluster_name': 'elasticsearch',\n",
       " 'cluster_uuid': 'XpCit1UoTwWArWjcHemYuQ',\n",
       " 'version': {'number': '8.3.0',\n",
       "  'build_type': 'deb',\n",
       "  'build_hash': '5b8b981647acdf1ba1d88751646b49d1b461b4cc',\n",
       "  'build_date': '2022-06-23T22:48:49.607492124Z',\n",
       "  'build_snapshot': False,\n",
       "  'lucene_version': '9.2.0',\n",
       "  'minimum_wire_compatibility_version': '7.17.0',\n",
       "  'minimum_index_compatibility_version': '7.0.0'},\n",
       " 'tagline': 'You Know, for Search'}"
      ]
     },
     "execution_count": 8,
     "metadata": {},
     "output_type": "execute_result"
    }
   ],
   "source": [
    "dict(es.info())"
   ]
  },
  {
   "cell_type": "markdown",
   "metadata": {},
   "source": [
    "## Indexing Documents "
   ]
  },
  {
   "cell_type": "markdown",
   "metadata": {
    "id": "0Z2i0tJoOTKv"
   },
   "source": [
    "we can add our documents to created index in two ways:<br>\n",
    "1- one by one in for loop. <br>\n",
    "2- use [Bulk API](https://www.elastic.co/guide/en/elasticsearch/reference/current/docs-bulk.html#:~:text=Bulk%20APIedit,can%20greatly%20increase%20indexing%20speed.), which performs multiple indexing or delete operations in a single API call. This reduces overhead and can significantly increase indexing speed."
   ]
  },
  {
   "cell_type": "markdown",
   "metadata": {
    "id": "ibRuMxh8OTKx"
   },
   "source": [
    "###  for loop by es.index \n",
    "**You dont have to run this cell**. "
   ]
  },
  {
   "cell_type": "code",
   "execution_count": 9,
   "metadata": {
    "id": "E81WiFk2OTKz",
    "scrolled": false
   },
   "outputs": [
    {
     "name": "stderr",
     "output_type": "stream",
     "text": [
      "100%|████████████████████████████████████| 12202/12202 [01:03<00:00, 191.90it/s]\n"
     ]
    }
   ],
   "source": [
    "for i in tqdm(range(len(data))):\n",
    "    es.index(index = index_name, id=i, document=data[str(i)])\n",
    "    i = i + 1"
   ]
  },
  {
   "cell_type": "markdown",
   "metadata": {
    "id": "hiv35Uj3OTK2"
   },
   "source": [
    "###  Bulk API"
   ]
  },
  {
   "cell_type": "code",
   "execution_count": 32,
   "metadata": {
    "id": "qt1XZ-BaOTK4"
   },
   "outputs": [],
   "source": [
    "from elasticsearch.helpers import bulk\n",
    "\n",
    "def bulk_sync():\n",
    "    actions = [\n",
    "        {\n",
    "            '_index': index_name,\n",
    "            '_id':doc_id,\n",
    "            '_source': doc\n",
    "        } for doc_id,doc in data.items()\n",
    "    ]\n",
    "    bulk(es, actions)\n"
   ]
  },
  {
   "cell_type": "code",
   "execution_count": 33,
   "metadata": {
    "id": "QUuoIuvlOTK5"
   },
   "outputs": [
    {
     "name": "stdout",
     "output_type": "stream",
     "text": [
      "Indexing all documents took about 2.46 seconds\n"
     ]
    }
   ],
   "source": [
    "start = time.time()\n",
    "bulk_sync()\n",
    "end = time.time()\n",
    "print(\"Indexing all documents took about {:.2f} seconds\".format(end - start))"
   ]
  },
  {
   "cell_type": "markdown",
   "metadata": {
    "id": "mHIPOwW1OTK7"
   },
   "source": [
    "### check index"
   ]
  },
  {
   "cell_type": "code",
   "execution_count": 34,
   "metadata": {
    "id": "hg8OYRf_OTK8",
    "outputId": "259e5c05-4b2e-40c6-8c9f-6aa9b41f4563"
   },
   "outputs": [
    {
     "data": {
      "text/plain": [
       "ObjectApiResponse({'count': 12202, '_shards': {'total': 1, 'successful': 1, 'skipped': 0, 'failed': 0}})"
      ]
     },
     "execution_count": 34,
     "metadata": {},
     "output_type": "execute_result"
    }
   ],
   "source": [
    "es.count(index = index_name)"
   ]
  },
  {
   "cell_type": "markdown",
   "metadata": {
    "id": "9PDnW1SnOTK-"
   },
   "source": [
    "## Boolean Retrieval "
   ]
  },
  {
   "cell_type": "markdown",
   "metadata": {
    "id": "mTtzPkLCOTK-"
   },
   "source": [
    "### Bool Query Structure\n",
    "\n",
    "It is built using one or more boolean clauses, each clause with a typed occurrence. The occurrence types are:\n",
    "\n",
    "**must**: The clause (query) must appear in matching documents and will contribute to the score.\n",
    "<br><br>\n",
    "**filter**: The clause (query) must appear in matching documents. However unlike must the score of the query will be ignored. Filter clauses are executed in filter context, meaning that scoring is ignored and clauses are considered for caching.\n",
    "<br><br>\n",
    "**should**: The clause (query) should appear in the matching document.\n",
    "<br><br>\n",
    "**must_not**: The clause (query) must not appear in the matching documents. Clauses are executed in filter context meaning that scoring is ignored and clauses are considered for caching. Because scoring is ignored, a score of 0 for all documents is returned.\n",
    "\n",
    "For further information, you can read this [Document](https://www.elastic.co/guide/en/elasticsearch/reference/current/query-dsl-bool-query.html). \n",
    "\n",
    "###  <span style=\"color:red\"> TODO </span>\n",
    "You should read about [match query](https://www.elastic.co/guide/en/elasticsearch/reference/current/query-dsl-match-query.html#match-top-level-params) and [match phrase query](https://www.elastic.co/guide/en/elasticsearch/reference/current/query-dsl-match-query-phrase.html) then complete the below cell."
   ]
  },
  {
   "cell_type": "code",
   "execution_count": 35,
   "metadata": {},
   "outputs": [],
   "source": [
    "from hazm import Normalizer, word_tokenize, stopwords_list, Stemmer\n",
    "def preprocess_query(query):\n",
    "    \"\"\"\n",
    "        Preprocesses a query.\n",
    "        normalizes and tokenizes the query.\n",
    "        removes stopwords, punctuation, urls ,and stemming.\n",
    "    \"\"\"\n",
    "    query = word_tokenize(query)\n",
    "    query = [w for w in query if w not in stopwords_list()]\n",
    "    query = [Stemmer().stem(w) for w in query]\n",
    "    return ' '.join(query)"
   ]
  },
  {
   "cell_type": "code",
   "execution_count": 36,
   "metadata": {
    "id": "G6XYVxrjOTK_"
   },
   "outputs": [],
   "source": [
    "query1= {\n",
    "        \"bool\": {\n",
    "          \"should\": [\n",
    "              { \n",
    "                  #TODO: add a match query structure ==> use for normal words\n",
    "                  \"match\" : {\"content\" : preprocess_query(\"آمریکا\")}\n",
    "                  \n",
    "              }, \n",
    "              \n",
    "              { \n",
    "                  #TODO: add a match pharse query strucutre ==> use for words in <\"\">\n",
    "                  \"match_phrase\" : {\"content\" : preprocess_query(\"تحریم هسته‌ای\")}\n",
    "              },\n",
    "   \n",
    "          ],\n",
    "          \"must_not\": [\n",
    "              {\n",
    "                  #TODO: add a match or match pharse query structure ==> use for words after <!>\n",
    "                  \"match\" : {\"content\" : preprocess_query(\"ایران\")}\n",
    "              }\n",
    "          ],\n",
    "        },\n",
    "    }"
   ]
  },
  {
   "cell_type": "code",
   "execution_count": 37,
   "metadata": {},
   "outputs": [],
   "source": [
    "query2= {\n",
    "        \"bool\": {\n",
    "          \"should\": [\n",
    "              { \n",
    "                  #TODO: add a match query structure ==> use for normal words\n",
    "                  \"match\" : {\"content\" : preprocess_query(\"اورشلیم\")}\n",
    "                  \n",
    "              }\n",
    "   \n",
    "          ],\n",
    "          \"must_not\": [\n",
    "              {\n",
    "                  #TODO: add a match or match pharse query structure ==> use for words after <!>\n",
    "                  \"match\" : {\"content\" : preprocess_query(\"صهیونیست\")}\n",
    "              }\n",
    "          ],\n",
    "        },\n",
    "    }"
   ]
  },
  {
   "cell_type": "markdown",
   "metadata": {
    "id": "GqR7SLBVOTLC"
   },
   "source": [
    "### Search query\n",
    "\n",
    "The _source field contains the original JSON document body that was passed at index time. The _source field itself is not indexed (and thus is not searchable), but it is stored so that it can be returned when executing fetch requests, like get or search.\n",
    "\n",
    "For further information, you can read this [Document](https://www.elastic.co/guide/en/elasticsearch/reference/current/search-search.html#search-api-response-body)."
   ]
  },
  {
   "cell_type": "code",
   "execution_count": null,
   "metadata": {},
   "outputs": [],
   "source": []
  },
  {
   "cell_type": "code",
   "execution_count": 38,
   "metadata": {
    "id": "SSrpYB5JOTLC",
    "outputId": "5865f35f-8d44-413f-85cf-2c7e37c4ed7e"
   },
   "outputs": [],
   "source": [
    "res1 = es.search(index = index_name, query=query1, _source= [\"url\"])\n",
    "res1 = dict(res1)"
   ]
  },
  {
   "cell_type": "code",
   "execution_count": 39,
   "metadata": {},
   "outputs": [],
   "source": [
    "res2 = es.search(index = index_name, query=query2, _source= [\"url\"])\n",
    "res2 = dict(res2)"
   ]
  },
  {
   "cell_type": "markdown",
   "metadata": {
    "id": "nkHMGaXfOTLD"
   },
   "source": [
    "### Results"
   ]
  },
  {
   "cell_type": "code",
   "execution_count": 40,
   "metadata": {
    "id": "g3sPDdpROTLE",
    "outputId": "92ed7fe8-f69c-4f48-aba5-ca2b4a881968",
    "scrolled": true
   },
   "outputs": [
    {
     "name": "stdout",
     "output_type": "stream",
     "text": [
      "221 results in 0.006 s: \n",
      "https://www.farsnews.ir/news/14001214000789/نماینده-کلیمیان-در-مجلس-دهم--کارتل‌ها-بر-تصمیمات-هیأت-حاکمه-آمریکا\n",
      "https://www.farsnews.ir/news/14001213000089/آمریکا-با-بحران‌آفرینی-به-حیات-خود-ادامه-می-دهد\n",
      "https://www.farsnews.ir/news/14001211000898/سود-مافیای-اسلحه‌سازی-آمریکا-در-ناامن-بودن-جهان-است\n",
      "https://www.farsnews.ir/news/14001211000321/آمریکا-دولت‌های-متحد-خود-را-در-زمان-اضطرار-تنها-می‌گذارد\n",
      "https://www.farsnews.ir/news/14001217000665/خباثت‌های-آمریکا-در-برجام-روسیه-و-چین-را-هم-به-این-کشور-بدبین-کرد\n",
      "https://www.farsnews.ir/news/14001214000825/آمریکا-رژیمی-مافیایی-است-و-مردم-در-تصمیمات-حاکمان-آن-جایگاهی-ندارند\n",
      "https://www.farsnews.ir/news/14001212000725/آمریکا-برای-فروش-تسلیحات-خود-به-ایجادناامنی-و-بحران‌آفرینی-نیاز-دارد\n",
      "https://www.farsnews.ir/news/14001211000220/نماینده-کلیمیان-در-مجلس-منافع-رژیم-مافیایی-آمریکا-در-ایجاد-ناامنی-است\n",
      "https://www.farsnews.ir/news/14001213000328/کارتل‌های-اقتصادی-رؤسای-جمهور-آمریکا-را-تعیین-می‌کنند\n",
      "https://www.farsnews.ir/news/14001012001013/تجمع-دانشجویان-مقابل-سفارت-سوئیس--اعلام-انزجار-از-قاتلان-سرداران\n"
     ]
    }
   ],
   "source": [
    "print(\"{} results in {} s: \".format(res1['hits']['total']['value'] ,res1['took']/1000))\n",
    "for doc in res1['hits']['hits']:\n",
    "    print(doc['_source']['url'])"
   ]
  },
  {
   "cell_type": "code",
   "execution_count": 41,
   "metadata": {},
   "outputs": [
    {
     "name": "stdout",
     "output_type": "stream",
     "text": [
      "0 results in 0.001 s: \n"
     ]
    }
   ],
   "source": [
    "print(\"{} results in {} s: \".format(res2['hits']['total']['value'] ,res2['took']/1000))\n",
    "for doc in res2['hits']['hits']:\n",
    "    print(doc['_source']['url'])"
   ]
  },
  {
   "cell_type": "code",
   "execution_count": null,
   "metadata": {},
   "outputs": [],
   "source": []
  }
 ],
 "metadata": {
  "colab": {
   "name": "boolean_query.ipynb",
   "provenance": []
  },
  "kernelspec": {
   "display_name": "Python 3 (ipykernel)",
   "language": "python",
   "name": "python3"
  },
  "language_info": {
   "codemirror_mode": {
    "name": "ipython",
    "version": 3
   },
   "file_extension": ".py",
   "mimetype": "text/x-python",
   "name": "python",
   "nbconvert_exporter": "python",
   "pygments_lexer": "ipython3",
   "version": "3.9.7"
  }
 },
 "nbformat": 4,
 "nbformat_minor": 1
}
