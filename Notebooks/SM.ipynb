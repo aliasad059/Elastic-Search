{
 "cells": [
  {
   "cell_type": "markdown",
   "metadata": {
    "id": "y5vthoJMuBpn",
    "tags": []
   },
   "source": [
    "# Similarity Modulation"
   ]
  },
  {
   "cell_type": "markdown",
   "metadata": {
    "id": "-_FPiNrFMYmY"
   },
   "source": [
    "Here we are going to implement another similarity other that the BM25 which is the default in Elastic. We want you to implement a tf-idf similarity and test it with same queries in phase2 so that you can get a sense of how well your Elastic tf-idf works. Follow the instructions and fill where ever it says # TODO.  <br>\n",
    "You can contact me in case of any problems via Telegram: @mahvash_sp"
   ]
  },
  {
   "cell_type": "code",
   "execution_count": 1,
   "metadata": {
    "id": "EbwCj28juBps"
   },
   "outputs": [],
   "source": [
    "from elasticsearch import Elasticsearch, helpers\n",
    "import json\n",
    "import warnings"
   ]
  },
  {
   "cell_type": "code",
   "execution_count": 2,
   "metadata": {},
   "outputs": [],
   "source": [
    "# import data from .csv file\n",
    "import pandas as pd\n",
    "df = pd.read_csv('preprocessed_data.csv',index_col=0)\n",
    "df = df.to_dict(orient='records')\n",
    "data = {str(k): v for k, v in enumerate(df)}"
   ]
  },
  {
   "cell_type": "code",
   "execution_count": 3,
   "metadata": {},
   "outputs": [
    {
     "data": {
      "text/plain": [
       "dict_keys(['title', 'content', 'tags', 'date', 'url', 'category'])"
      ]
     },
     "execution_count": 3,
     "metadata": {},
     "output_type": "execute_result"
    }
   ],
   "source": [
    "data['0'].keys()"
   ]
  },
  {
   "cell_type": "code",
   "execution_count": null,
   "metadata": {
    "id": "BrwsaVsj5ubv"
   },
   "outputs": [],
   "source": [
    "# # import data in json format\n",
    "# file_name = 'IR_data_news_12k.json'\n",
    "\n",
    "# with open(file_name) as f:\n",
    "#     data = json.load(f)"
   ]
  },
  {
   "cell_type": "code",
   "execution_count": 4,
   "metadata": {
    "id": "y4xg-Rhk5ub0"
   },
   "outputs": [],
   "source": [
    "# Filter warnings\n",
    "warnings.filterwarnings('ignore')"
   ]
  },
  {
   "cell_type": "markdown",
   "metadata": {
    "id": "tJ3Kf58zuBpv"
   },
   "source": [
    "After starting your Elasticsearch on your pc (localhost:9200 is the default) we have to connect to it via the following piece of code\n"
   ]
  },
  {
   "cell_type": "code",
   "execution_count": 5,
   "metadata": {
    "id": "_yyuk50M5ub2"
   },
   "outputs": [],
   "source": [
    "# Here we try to connect to Elastic\n",
    "es = Elasticsearch(\"http://localhost:9200\")"
   ]
  },
  {
   "cell_type": "markdown",
   "metadata": {
    "id": "fCY5fnsd5ub5",
    "tags": []
   },
   "source": [
    "## Create tf-idf Index"
   ]
  },
  {
   "cell_type": "markdown",
   "metadata": {
    "id": "8mA8caevuBpx",
    "tags": []
   },
   "source": [
    "### Create Index"
   ]
  },
  {
   "cell_type": "code",
   "execution_count": 6,
   "metadata": {
    "id": "KGcQKuO6uBpx"
   },
   "outputs": [],
   "source": [
    "# Name of index \n",
    "sm_index_name = 'tfidf_index'"
   ]
  },
  {
   "cell_type": "code",
   "execution_count": 7,
   "metadata": {
    "id": "jAO61WFi5ub6"
   },
   "outputs": [
    {
     "data": {
      "text/plain": [
       "ObjectApiResponse({'acknowledged': True, 'shards_acknowledged': True, 'index': 'tfidf_index'})"
      ]
     },
     "execution_count": 7,
     "metadata": {},
     "output_type": "execute_result"
    }
   ],
   "source": [
    "# Delete index if one does exist\n",
    "if es.indices.exists(index=sm_index_name):\n",
    "    es.indices.delete(index=sm_index_name)\n",
    "\n",
    "# Create index    \n",
    "es.indices.create(index=sm_index_name)"
   ]
  },
  {
   "cell_type": "markdown",
   "metadata": {
    "id": "nMipnzi9uBpy",
    "tags": []
   },
   "source": [
    "### Add documents"
   ]
  },
  {
   "cell_type": "markdown",
   "metadata": {
    "id": "ELD27cX9uBpz"
   },
   "source": [
    "In here we used the bulk doc formatter which was introduced in the first subsection of phase 3. <br>\n",
    "You can find out more in [Here](https://stackoverflow.com/questions/61580963/insert-multiple-documents-in-elasticsearch-bulk-doc-formatter)."
   ]
  },
  {
   "cell_type": "code",
   "execution_count": 8,
   "metadata": {
    "id": "xhA0gQXe5ub7"
   },
   "outputs": [],
   "source": [
    "\n",
    "from elasticsearch.helpers import bulk\n",
    "\n",
    "def bulk_sync():\n",
    "    actions = [\n",
    "        {\n",
    "            '_index': sm_index_name,\n",
    "            '_id':doc_id,\n",
    "            '_source': doc\n",
    "        } for doc_id,doc in data.items()\n",
    "    ]\n",
    "    bulk(es, actions)\n",
    "    \n",
    "    \n"
   ]
  },
  {
   "cell_type": "code",
   "execution_count": 9,
   "metadata": {
    "id": "2ak5DZ1TuBpz"
   },
   "outputs": [],
   "source": [
    "# run the function to add documents\n",
    "bulk_sync()"
   ]
  },
  {
   "cell_type": "code",
   "execution_count": 10,
   "metadata": {
    "id": "KxmyyKf9uBp0",
    "outputId": "633e18c6-3886-4161-c919-99afa7f13e92"
   },
   "outputs": [
    {
     "data": {
      "text/plain": [
       "ObjectApiResponse({'count': 11500, '_shards': {'total': 1, 'successful': 1, 'skipped': 0, 'failed': 0}})"
      ]
     },
     "execution_count": 10,
     "metadata": {},
     "output_type": "execute_result"
    }
   ],
   "source": [
    "# Check index\n",
    "es.count(index = sm_index_name)"
   ]
  },
  {
   "cell_type": "markdown",
   "metadata": {
    "id": "csyy2vtEuBp0",
    "tags": []
   },
   "source": [
    "### Configuring a similarity"
   ]
  },
  {
   "cell_type": "markdown",
   "metadata": {
    "id": "a2wum2BOuBp0"
   },
   "source": [
    "In order to configure a new similarity function you have to change the similarity from the settings api of the index. This can be done via the function 'put_settings' in python. What we do is to change the 'default' similarity function in Elastic so that it uses the replaced similarity instead. Type of this similarity is set to 'scripted' because tf-idf is not among the pre-defined similarity functions in Elastic anymore. As this similarity is a scripted type the source code of it must be written **by you** and passed to it.<br>\n",
    "> In order for the changes to be applied, first we close the index and change the settings and then reopen it<br>\n",
    "\n",
    "Write the tf-idf code in a string and pass it as a value to the \"source\" key. <br>\n",
    "You can find the variables needed in your code in [Here](https://www.elastic.co/guide/en/elasticsearch/painless/current/painless-similarity-context.html)."
   ]
  },
  {
   "cell_type": "code",
   "execution_count": 11,
   "metadata": {
    "id": "YzQJGr24uBp1"
   },
   "outputs": [],
   "source": [
    "# TODO : uncomment the code bellow, write the tf-idf code in here\n",
    "source_code = \"double tf = Math.sqrt(doc.freq); double idf = Math.log((field.docCount+1.0)/(term.docFreq+1.0)) + 1.0; double norm = 1/Math.sqrt(doc.length); return query.boost * tf * idf * norm;\""
   ]
  },
  {
   "cell_type": "code",
   "execution_count": 12,
   "metadata": {
    "id": "Wjdp3J3T5ub7",
    "outputId": "b41302cd-777d-4c80-ad4e-ca9865c271e9"
   },
   "outputs": [
    {
     "data": {
      "text/plain": [
       "ObjectApiResponse({'acknowledged': True, 'shards_acknowledged': True})"
      ]
     },
     "execution_count": 12,
     "metadata": {},
     "output_type": "execute_result"
    }
   ],
   "source": [
    "# closing the index\n",
    "es.indices.close(index=sm_index_name)\n",
    "\n",
    "# applying the settings\n",
    "es.indices.put_settings(index=sm_index_name, \n",
    "                            settings={\n",
    "                                \"similarity\": {\n",
    "                                      \"default\": {\n",
    "                                        \"type\": \"scripted\",\n",
    "                                        \"script\": {\n",
    "                                          # TODO : uncomment the code bellow and pass the suitable parameter\n",
    "                                          \"source\": source_code\n",
    "                                        }\n",
    "                                      }\n",
    "                                }\n",
    "                            }\n",
    "                       )\n",
    "\n",
    "# reopening the index\n",
    "es.indices.open(index=sm_index_name)"
   ]
  },
  {
   "cell_type": "markdown",
   "metadata": {
    "id": "ghBUm8V8uBp1",
    "tags": []
   },
   "source": [
    "### Query"
   ]
  },
  {
   "cell_type": "markdown",
   "metadata": {
    "id": "XfMeKtYiN-fu"
   },
   "source": [
    "In this section you have to test your index with same queries you tested phase2. The goal here is to observe how different or simillar your tf-idf Elastic implementation works."
   ]
  },
  {
   "cell_type": "code",
   "execution_count": 13,
   "metadata": {},
   "outputs": [],
   "source": [
    "from hazm import Normalizer, word_tokenize, stopwords_list, Stemmer\n",
    "def preprocess_query(query):\n",
    "    \"\"\"\n",
    "        Preprocesses a query.\n",
    "        normalizes and tokenizes the query.\n",
    "        removes stopwords, punctuation, urls ,and stemming.\n",
    "    \"\"\"\n",
    "    query = word_tokenize(query)\n",
    "    query = [w for w in query if w not in stopwords_list()]\n",
    "    query = [Stemmer().stem(w) for w in query]\n",
    "    return ' '.join(query)"
   ]
  },
  {
   "cell_type": "code",
   "execution_count": 14,
   "metadata": {
    "executionInfo": {
     "elapsed": 4,
     "status": "ok",
     "timestamp": 1654237270680,
     "user": {
      "displayName": "Mahvash Siavashpour",
      "userId": "18425997334276185054"
     },
     "user_tz": -270
    },
    "id": "YWJ5w3unuBp2"
   },
   "outputs": [],
   "source": [
    "# A function that creates appropriate body for our match content type query\n",
    "def get_query(text):\n",
    "    body ={\n",
    "    \"query\":{  \n",
    "        \"match\" : {\n",
    "            \"content\" : preprocess_query(text)\n",
    "\n",
    "            }\n",
    "        }\n",
    "    }\n",
    "    \n",
    "    return body"
   ]
  },
  {
   "cell_type": "code",
   "execution_count": 16,
   "metadata": {
    "id": "7UJKTdWuuBp2"
   },
   "outputs": [],
   "source": [
    "queries = [\n",
    "    #TODO : add your queries in string format to this list\n",
    "    get_query('سایپا'),\n",
    "    get_query('بودجه سالیانه شهرداری')\n",
    "]"
   ]
  },
  {
   "cell_type": "code",
   "execution_count": 18,
   "metadata": {
    "id": "d2jhW3twuBp2"
   },
   "outputs": [],
   "source": [
    "all_res_tfidf = []\n",
    "\n",
    "\n",
    "for q in queries:\n",
    "    res_tfidf = es.search(index=sm_index_name, body=q, explain=True)\n",
    "    all_res_tfidf.append(dict(res_tfidf))"
   ]
  },
  {
   "cell_type": "code",
   "execution_count": 19,
   "metadata": {
    "id": "gesmaSYHuBp3"
   },
   "outputs": [
    {
     "name": "stdout",
     "output_type": "stream",
     "text": [
      "{'query': {'match': {'content': 'سایپا'}}}\n",
      "https://www.farsnews.ir/news/14001130000767/پایان-همکاری-سراجی-و-باشگاه-سایپا\n",
      "https://www.farsnews.ir/news/14001130000838/مدیرعامل-جدید-باشگاه-سایپا-مشخص-شد\n",
      "https://www.farsnews.ir/news/14001218000265/اتفاق-عجیب-در-لیگ-نوجوانان-قهرمانی-سایپا-پس-گرفته-شد-نامه\n",
      "https://www.farsnews.ir/news/14001119000962/درخواست-باشگاه-سایپا-در-دادگاه-CAS-رد-شد-پیکان-برنده-اعتراض-نارنجی\n",
      "https://www.farsnews.ir/news/14001027000692/مدیر-فنی-تیم-والیبال-سایپا-مشخص-شد\n",
      "https://www.farsnews.ir/news/14001209000919/ابوالقاسم‌پور-سرپرست-معاونت-ورزش-باشگاه-سایپا-شد\n",
      "https://www.farsnews.ir/news/14001029000952/بداخلاقی-و-اخراج-سرمربی-سایپا-شهنازی-به-کمیته-انضباطی-می‌رود\n",
      "https://www.farsnews.ir/news/14001206000302/حضور-مدیرعامل-جدید-سایپا-در-تمرین-شاگردان-روانخواه-عکس\n",
      "https://www.farsnews.ir/news/14001123000810/پلی‌آف-والیبال-بانوان|-پیکان-برنده-جدال-خودروسازان\n",
      "https://www.farsnews.ir/news/14001215001027/گرامیداشت-روز-سایپا-و-آیین-درختکاری-با-حضور-مربی-و-مدیر-تیم-ملی-\n",
      "----------------------------\n",
      "{'query': {'match': {'content': 'بودجه سالیانه شهردار'}}}\n",
      "https://www.farsnews.ir/news/14000728000068/ارائه-لایحه-بودجه-به-مجلس-چند-لایه-می‌شود\n",
      "https://www.farsnews.ir/news/14001007000705/سخنگوی-کمیسیون-قضایی-مجلس-تلاش-می‌کنیم-بودجه-دستگاه-قضا-را-به-29-درصد\n",
      "https://www.farsnews.ir/news/14001008000578/بررسی-شفافیت-مالی-در-حوزه-شهرداری‌ها-در-مرکز-پژوهش‌های-مجلس\n",
      "https://www.farsnews.ir/news/14001209000117/مجلس-تا-9-اسفند-ساعت-کاری-فرصت-بررسی-بودجه-دارد\n",
      "https://www.farsnews.ir/news/14001006000377/پایان-کار-پیوس-در-شهرداری-آستارا\n",
      "https://www.farsnews.ir/news/14000927000451/بودجه-شورای-نگهبان-در-سال-آینده-بیش-از-40-درصد-کاهش-خواهد-یافت\n",
      "https://www.farsnews.ir/news/14000817000503/آیت‌الله-رئیسی-بودجه‌ریزی-باید-عدالت‌محور-باشد-لزوم-پرهیز-از\n",
      "https://www.farsnews.ir/news/14001103000555/توقف-کوتاه-بازی-شهرداری-آستارا-و-مس-به-خاطر-اعتراض-ها-دستیار-رافت\n",
      "https://www.farsnews.ir/news/14001102000793/شهرداری‌ها-نسبت-به-مسایل-فاضلاب‌ها-و-ایمنی-شهرها-اهتمام-جدی-داشته\n",
      "https://www.farsnews.ir/news/14001109000448/کنگره-سالیانه-جمعیت-وفاداران-تا-پایان-امسال-برگزار-می‌شود\n",
      "----------------------------\n"
     ]
    }
   ],
   "source": [
    "for res, q in zip(all_res_tfidf, queries):\n",
    "    print(q)\n",
    "    for doc in res['hits']['hits']:\n",
    "        print(doc['_source']['url'])\n",
    "    print(\"----------------------------\")"
   ]
  },
  {
   "cell_type": "code",
   "execution_count": null,
   "metadata": {
    "id": "d8pbrwnquBp3"
   },
   "outputs": [],
   "source": []
  },
  {
   "cell_type": "code",
   "execution_count": null,
   "metadata": {
    "id": "Y098-SQQuBp3"
   },
   "outputs": [],
   "source": []
  }
 ],
 "metadata": {
  "colab": {
   "collapsed_sections": [],
   "name": "SM.ipynb",
   "provenance": []
  },
  "kernelspec": {
   "display_name": "Python 3 (ipykernel)",
   "language": "python",
   "name": "python3"
  },
  "language_info": {
   "codemirror_mode": {
    "name": "ipython",
    "version": 3
   },
   "file_extension": ".py",
   "mimetype": "text/x-python",
   "name": "python",
   "nbconvert_exporter": "python",
   "pygments_lexer": "ipython3",
   "version": "3.9.7"
  }
 },
 "nbformat": 4,
 "nbformat_minor": 1
}
